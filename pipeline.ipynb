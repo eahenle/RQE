{
 "cells": [
  {
   "cell_type": "markdown",
   "id": "9759d357-f79b-454a-8e14-48f56879c1f5",
   "metadata": {},
   "source": [
    "# Querybot"
   ]
  },
  {
   "cell_type": "markdown",
   "id": "89afd1c5-dd63-4a2b-a4fd-56a2b6e63acd",
   "metadata": {},
   "source": [
    "## Goal\n",
    "\n",
    "Type a query, get data as a response.\n",
    "\n",
    "More specifically, by using an LLM, we wish to generate appropriate queries to a database, allowing users to retrieve records without any prior knowledge of the database's structure or the appropriate query language.\n",
    "\n",
    "The workflow will be:\n",
    " 1. Take the user input as a text string;\n",
    " 2. Determine which table(s) contain the relevant data;\n",
    " 3. Generate a SQL query to get the data from the table(s);\n",
    " 4. Execute the query;\n",
    " 5. Report back to the user."
   ]
  },
  {
   "cell_type": "code",
   "execution_count": 1,
   "id": "52c16577-04dc-43bd-829f-8939a8497081",
   "metadata": {},
   "outputs": [],
   "source": [
    "def query_database(user_query:str) -> str:\n",
    "    \"\"\"\n",
    "    Query the IMDB database using LLM-generated SQL.\n",
    "    \"\"\"\n",
    "    tables = select_tables(user_query)\n",
    "    sql = create_sql_query(user_query, tables)\n",
    "    answer = execute_sql(sql)\n",
    "    output = format_output(user_query, answer)\n",
    "\n",
    "    return output"
   ]
  },
  {
   "cell_type": "markdown",
   "id": "6c2bdaaf-9092-4719-ba15-4c3699161692",
   "metadata": {},
   "source": [
    "## Database\n",
    "\n",
    "The [database](https://www.kaggle.com/datasets/priy998/imdbsqlitedataset) we will use is scraped from [IMDB](imdb.com).\n",
    "It can be obtained by running the appropriate `download_imdb_data` script or from [Kaggle](https://www.kaggle.com/datasets/priy998/imdbsqlitedataset)."
   ]
  },
  {
   "cell_type": "code",
   "execution_count": 2,
   "id": "cb4956bc-84d5-4227-80da-7870b5d587d2",
   "metadata": {},
   "outputs": [],
   "source": [
    "import os\n",
    "import sqlite3\n",
    "\n",
    "__DATABASE_PATH__ = \"data/movie.sqlite\""
   ]
  },
  {
   "cell_type": "code",
   "execution_count": 3,
   "id": "98efdbbe-fc3c-4aa0-972a-aab71a89101e",
   "metadata": {},
   "outputs": [],
   "source": [
    "def connect(db_path:str=__DATABASE_PATH__, raise_error:bool=True):\n",
    "    \"\"\"\n",
    "    Connect to a sqlite3 database at `db_path` only if the file is found.\n",
    "    \"\"\"\n",
    "    if os.path.exists(db_path):\n",
    "        return sqlite3.connect(db_path)\n",
    "    elif raise_error:\n",
    "        raise FileNotFoundError(db_path)\n",
    "    else:\n",
    "        return None"
   ]
  },
  {
   "cell_type": "code",
   "execution_count": 4,
   "id": "f6b97d9e-d467-4731-9b22-d7bb4694a54d",
   "metadata": {},
   "outputs": [],
   "source": [
    "def execute_sql(query:str, db_path:str=__DATABASE_PATH__) -> list:\n",
    "    \"\"\"\n",
    "    Connect to the database at the indicated path and execute a SQL query.\n",
    "    \"\"\"\n",
    "    connection = connect(db_path) # connect to DB\n",
    "    cursor = connection.cursor() # generate a data selector\n",
    "    cursor.execute(query) # run the SQL to select data\n",
    "    results = cursor.fetchall() # load the data into memory\n",
    "    return results"
   ]
  },
  {
   "cell_type": "code",
   "execution_count": 5,
   "id": "b1c4cd73-3959-434c-a166-273ce8551357",
   "metadata": {},
   "outputs": [],
   "source": [
    "# make sure that accessing the database works\n",
    "assert(\n",
    "    set(execute_sql(\"SELECT name FROM sqlite_master WHERE type = 'table' ORDER BY name;\")) == \n",
    "    set({('directors',), ('movies',), ('sqlite_sequence',)})\n",
    ")"
   ]
  },
  {
   "cell_type": "markdown",
   "id": "ddc6a35c-6e06-4db0-828c-6db04d60db40",
   "metadata": {},
   "source": [
    "There are two tables in the database, \"movies\" and \"directors\".\n",
    "We can use SQL to access data from these tables, but even knowing the table names is something we want to avoid.\n",
    "The AI does need the structure of the DB to be explained to it, though, so we should automatically extract the schema."
   ]
  },
  {
   "cell_type": "code",
   "execution_count": 6,
   "id": "74f0cf65-bb3c-4a07-966f-351976f96671",
   "metadata": {},
   "outputs": [
    {
     "name": "stdout",
     "output_type": "stream",
     "text": [
      "directors;Table: directors\\nColumns: \\nname, id, gender, uid, department\n",
      "movies;Table: movies\\nColumns: \\nid, original_title, budget, popularity, release_date, revenue, title, vote_average, vote_count, overview, tagline, uid, director_id\n"
     ]
    }
   ],
   "source": [
    "__SCHEMA_TXT__ = \"data/schema.txt\"\n",
    "\n",
    "def extract_schema(db:str=__DATABASE_PATH__, target:str=__SCHEMA_TXT__) -> str:\n",
    "    \"\"\"\n",
    "    Extract the table/column schema of a sqlite3 database to a text file.\n",
    "    \"\"\"\n",
    "    connection = connect(db)\n",
    "    cursor = connection.cursor()\n",
    "    # read the table names from the DB metadata\n",
    "    cursor.execute(\"SELECT name FROM sqlite_master WHERE type = 'table' ORDER BY name;\")\n",
    "    tables = [x[0] for x in cursor.fetchall() if not x[0].startswith(\"sqlite_\")]\n",
    "    # build the schema up table by table\n",
    "    schema = \"\"\n",
    "    for table in tables:\n",
    "        # get column names from table metadata\n",
    "        cursor = connection.cursor()\n",
    "        cursor.execute(f\"SELECT name FROM pragma_table_info('{table}');\")\n",
    "        columns = [x[0] for x in cursor.fetchall()]\n",
    "        # format list of columns\n",
    "        col_str = \"\"\n",
    "        for column in columns:\n",
    "            col_str += column + \", \"\n",
    "        col_str = col_str[:-2]\n",
    "        # format table scheme and append it to the schema string\n",
    "        schema += f\"\\n{table};Table: {table}\\\\nColumns: \\\\n{col_str}\"\n",
    "    # trim leading newline\n",
    "    schema = schema[1:]\n",
    "    # write to file\n",
    "    with open(target, \"w\") as f:\n",
    "        f.write(schema)\n",
    "    return schema\n",
    "\n",
    "print(extract_schema())"
   ]
  },
  {
   "cell_type": "markdown",
   "id": "41617189-a5b4-414e-a1a4-a0db0d134fba",
   "metadata": {},
   "source": [
    "That's a little messy to my eye, but the LLM will have no problem understanding."
   ]
  },
  {
   "cell_type": "markdown",
   "id": "3987a3d1-733e-4642-a86d-29187f158495",
   "metadata": {},
   "source": [
    "## LLM\n",
    "\n",
    "We'll use ChatGPT-4o as our LLM.\n",
    "This requires an [OpenAI API key](https://platform.openai.com/settings/organization/api-keys), which must be either saved to a local file or read from environment variables.\n",
    "\n",
    "**NEVER** save this key in a public place, or write it in a commit in *ANY* Git repo, *EVER*.\n",
    "The API key gives the user the power to run queries on your account, and you will be billed!"
   ]
  },
  {
   "cell_type": "code",
   "execution_count": 7,
   "id": "9f35b97b-056e-4695-8c2f-ff6d27983f72",
   "metadata": {},
   "outputs": [],
   "source": [
    "from openai import OpenAI\n",
    "\n",
    "__OPENAI_API_KEY_PATH__=\".openai\"\n",
    "\n",
    "if os.path.exists(__OPENAI_API_KEY_PATH__):\n",
    "    # read key from local file and connect to the OpenAI API\n",
    "    client = OpenAI(api_key=open(__OPENAI_API_KEY_PATH__).read())\n",
    "else:\n",
    "    client = OpenAI() # backup option: read env vars"
   ]
  },
  {
   "cell_type": "code",
   "execution_count": 8,
   "id": "75f701ce-ba32-43f7-b2d9-dfd87f46246c",
   "metadata": {},
   "outputs": [],
   "source": [
    "__OPENAI_MODEL__ = \"gpt-4o\"\n",
    "\n",
    "def call_model(query:str, system_message:str=\"\", model:str=__OPENAI_MODEL__) -> str:\n",
    "    \"\"\"\n",
    "    Run the query with optional `system_message` on the selected model.\n",
    "    \"\"\"\n",
    "    return client.chat.completions.create(\n",
    "        model=model,\n",
    "        messages=[\n",
    "            {\"role\": \"system\", \"content\": system_message},\n",
    "            {\"role\": \"user\", \"content\": query}\n",
    "        ]\n",
    "    ).choices[0].message"
   ]
  },
  {
   "cell_type": "code",
   "execution_count": 9,
   "id": "9e9341f3-341f-47ae-98a0-2301bfcae64f",
   "metadata": {},
   "outputs": [],
   "source": [
    "__SYSTEM_PROMPT_FILES__ = {\n",
    "    \"select_tables\" : \"system/select_tables.txt\",\n",
    "    \"create_sql_query\" : \"system/create_sql_query.txt\"\n",
    "}"
   ]
  },
  {
   "cell_type": "code",
   "execution_count": 10,
   "id": "ef9008f1-e7c1-457d-a34d-76adae1febbd",
   "metadata": {},
   "outputs": [],
   "source": [
    "def select_tables(user_query:str, system_prompt:str=__SYSTEM_PROMPT_FILES__[\"select_tables\"]) -> list:\n",
    "    \"\"\"\n",
    "    Use the LLM to choose tables from the database.\n",
    "    \"\"\"\n",
    "    system_message = open(system_prompt, \"r\").read()\n",
    "    response = call_model(system_message, user_query)\n",
    "    tables = response.content.split(\",\")\n",
    "    return tables"
   ]
  },
  {
   "cell_type": "code",
   "execution_count": 11,
   "id": "e2d64366-6ebf-4330-ab05-593c5aeb27f0",
   "metadata": {},
   "outputs": [],
   "source": [
    "def create_sql_query(user_query:str, tables:list, schema_file:str=__SCHEMA_TXT__):\n",
    "    \"\"\"\n",
    "    Produce a SQL query based on the `user_query` and `schema_file`.\n",
    "    The list of `tables` is used to confine the SQL's scope.\n",
    "    \"\"\"\n",
    "    # parse tables metadata from schema\n",
    "    tables_data = \"\"\n",
    "    for scheme in open(schema_file,\"r\").readlines():\n",
    "        data = scheme.split(\";\")\n",
    "        if data[0].strip() in tables:\n",
    "            tables_data += data[1] + '\\n'\n",
    "    # generate the system prompt\n",
    "    system_message = open(__SYSTEM_PROMPT_FILES__[\"create_sql_query\"], \"r\").read()\n",
    "    system_message = system_message.replace(\"{tables}\", tables_data)\n",
    "    # generate the SQL\n",
    "    content = call_model(system_message, user_query).content\n",
    "    # strip markdown\n",
    "    content = content.replace(\"```sql\", \"\").replace(\"```\", \"\")\n",
    "    return content"
   ]
  },
  {
   "cell_type": "code",
   "execution_count": 12,
   "id": "59b1dbb9-aec5-4c12-802a-9786317a057e",
   "metadata": {},
   "outputs": [
    {
     "ename": "OperationalError",
     "evalue": "no such column: release_year",
     "output_type": "error",
     "traceback": [
      "\u001b[0;31m---------------------------------------------------------------------------\u001b[0m",
      "\u001b[0;31mOperationalError\u001b[0m                          Traceback (most recent call last)",
      "Cell \u001b[0;32mIn[12], line 2\u001b[0m\n\u001b[1;32m      1\u001b[0m test_query \u001b[38;5;241m=\u001b[39m \u001b[38;5;124m\"\u001b[39m\u001b[38;5;124mList the most popular movies from the years 2000-2006.\u001b[39m\u001b[38;5;124m\"\u001b[39m\n\u001b[0;32m----> 2\u001b[0m response \u001b[38;5;241m=\u001b[39m \u001b[43mquery_database\u001b[49m\u001b[43m(\u001b[49m\u001b[43mtest_query\u001b[49m\u001b[43m)\u001b[49m\n\u001b[1;32m      3\u001b[0m \u001b[38;5;28mprint\u001b[39m(response)\n",
      "Cell \u001b[0;32mIn[1], line 7\u001b[0m, in \u001b[0;36mquery_database\u001b[0;34m(user_query)\u001b[0m\n\u001b[1;32m      5\u001b[0m tables \u001b[38;5;241m=\u001b[39m select_tables(user_query)\n\u001b[1;32m      6\u001b[0m sql \u001b[38;5;241m=\u001b[39m create_sql_query(user_query, tables)\n\u001b[0;32m----> 7\u001b[0m answer \u001b[38;5;241m=\u001b[39m \u001b[43mexecute_sql\u001b[49m\u001b[43m(\u001b[49m\u001b[43msql\u001b[49m\u001b[43m)\u001b[49m\n\u001b[1;32m      8\u001b[0m output \u001b[38;5;241m=\u001b[39m format_output(user_query, answer)\n\u001b[1;32m     10\u001b[0m \u001b[38;5;28;01mreturn\u001b[39;00m output\n",
      "Cell \u001b[0;32mIn[4], line 7\u001b[0m, in \u001b[0;36mexecute_sql\u001b[0;34m(query, db_path)\u001b[0m\n\u001b[1;32m      5\u001b[0m connection \u001b[38;5;241m=\u001b[39m connect(db_path) \u001b[38;5;66;03m# connect to DB\u001b[39;00m\n\u001b[1;32m      6\u001b[0m cursor \u001b[38;5;241m=\u001b[39m connection\u001b[38;5;241m.\u001b[39mcursor() \u001b[38;5;66;03m# generate a data selector\u001b[39;00m\n\u001b[0;32m----> 7\u001b[0m \u001b[43mcursor\u001b[49m\u001b[38;5;241;43m.\u001b[39;49m\u001b[43mexecute\u001b[49m\u001b[43m(\u001b[49m\u001b[43mquery\u001b[49m\u001b[43m)\u001b[49m \u001b[38;5;66;03m# run the SQL to select data\u001b[39;00m\n\u001b[1;32m      8\u001b[0m results \u001b[38;5;241m=\u001b[39m cursor\u001b[38;5;241m.\u001b[39mfetchall() \u001b[38;5;66;03m# load the data into memory\u001b[39;00m\n\u001b[1;32m      9\u001b[0m \u001b[38;5;28;01mreturn\u001b[39;00m results\n",
      "\u001b[0;31mOperationalError\u001b[0m: no such column: release_year"
     ]
    }
   ],
   "source": [
    "test_query = \"List the most popular movies from the years 2000-2006.\"\n",
    "response = query_database(test_query)\n",
    "print(response)"
   ]
  },
  {
   "cell_type": "code",
   "execution_count": null,
   "id": "20da9a5b-a0b3-4558-8811-20533d8a8b43",
   "metadata": {},
   "outputs": [],
   "source": []
  }
 ],
 "metadata": {
  "kernelspec": {
   "display_name": "Python 3 (ipykernel)",
   "language": "python",
   "name": "python3"
  },
  "language_info": {
   "codemirror_mode": {
    "name": "ipython",
    "version": 3
   },
   "file_extension": ".py",
   "mimetype": "text/x-python",
   "name": "python",
   "nbconvert_exporter": "python",
   "pygments_lexer": "ipython3",
   "version": "3.12.6"
  }
 },
 "nbformat": 4,
 "nbformat_minor": 5
}
